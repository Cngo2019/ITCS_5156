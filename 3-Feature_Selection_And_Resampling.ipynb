{
 "cells": [
  {
   "cell_type": "code",
   "execution_count": 23,
   "id": "90f60638",
   "metadata": {},
   "outputs": [],
   "source": [
    "from imblearn.over_sampling import SMOTE\n",
    "import pandas as pd\n",
    "import numpy as np\n",
    "X_train = pd.read_csv(\"X_train\", delimiter = \",\")\n",
    "X_test = pd.read_csv(\"X_test\", delimiter = \",\")\n",
    "t_train = pd.read_csv(\"t_train\", delimiter = \",\")\n",
    "t_test = pd.read_csv(\"t_test\",  delimiter = \",\")"
   ]
  },
  {
   "cell_type": "markdown",
   "id": "b97fd8bf",
   "metadata": {},
   "source": [
    "### The goal for this notebook is to replicate the selectKBest feature selection method in addition to performing some oversampling. Below are the value counts for our current data"
   ]
  },
  {
   "cell_type": "code",
   "execution_count": 24,
   "id": "77fc0524",
   "metadata": {},
   "outputs": [
    {
     "data": {
      "text/plain": [
       "readmitted\n",
       "0             49431\n",
       "1             42158\n",
       "dtype: int64"
      ]
     },
     "execution_count": 24,
     "metadata": {},
     "output_type": "execute_result"
    }
   ],
   "source": [
    "t_train.value_counts()"
   ]
  },
  {
   "cell_type": "code",
   "execution_count": 25,
   "id": "0e38023b",
   "metadata": {},
   "outputs": [
    {
     "data": {
      "text/plain": [
       "readmitted\n",
       "0             5433\n",
       "1             4744\n",
       "dtype: int64"
      ]
     },
     "execution_count": 25,
     "metadata": {},
     "output_type": "execute_result"
    }
   ],
   "source": [
    "t_test.value_counts()"
   ]
  },
  {
   "cell_type": "code",
   "execution_count": 26,
   "id": "58608432",
   "metadata": {},
   "outputs": [
    {
     "name": "stderr",
     "output_type": "stream",
     "text": [
      "C:\\Users\\canng\\AppData\\Local\\Programs\\Python\\Python310\\lib\\site-packages\\sklearn\\utils\\validation.py:993: DataConversionWarning: A column-vector y was passed when a 1d array was expected. Please change the shape of y to (n_samples, ), for example using ravel().\n",
      "  y = column_or_1d(y, warn=True)\n",
      "C:\\Users\\canng\\AppData\\Local\\Programs\\Python\\Python310\\lib\\site-packages\\sklearn\\feature_selection\\_univariate_selection.py:112: UserWarning: Features [37 38] are constant.\n",
      "  warnings.warn(\"Features %s are constant.\" % constant_features_idx, UserWarning)\n",
      "C:\\Users\\canng\\AppData\\Local\\Programs\\Python\\Python310\\lib\\site-packages\\sklearn\\feature_selection\\_univariate_selection.py:113: RuntimeWarning: invalid value encountered in true_divide\n",
      "  f = msb / msw\n",
      "C:\\Users\\canng\\AppData\\Local\\Programs\\Python\\Python310\\lib\\site-packages\\sklearn\\utils\\validation.py:993: DataConversionWarning: A column-vector y was passed when a 1d array was expected. Please change the shape of y to (n_samples, ), for example using ravel().\n",
      "  y = column_or_1d(y, warn=True)\n",
      "C:\\Users\\canng\\AppData\\Local\\Programs\\Python\\Python310\\lib\\site-packages\\sklearn\\feature_selection\\_univariate_selection.py:112: UserWarning: Features [37 38] are constant.\n",
      "  warnings.warn(\"Features %s are constant.\" % constant_features_idx, UserWarning)\n",
      "C:\\Users\\canng\\AppData\\Local\\Programs\\Python\\Python310\\lib\\site-packages\\sklearn\\feature_selection\\_univariate_selection.py:113: RuntimeWarning: invalid value encountered in true_divide\n",
      "  f = msb / msw\n"
     ]
    },
    {
     "name": "stdout",
     "output_type": "stream",
     "text": [
      "8\n",
      "16\n",
      "32\n"
     ]
    },
    {
     "name": "stderr",
     "output_type": "stream",
     "text": [
      "C:\\Users\\canng\\AppData\\Local\\Programs\\Python\\Python310\\lib\\site-packages\\sklearn\\utils\\validation.py:993: DataConversionWarning: A column-vector y was passed when a 1d array was expected. Please change the shape of y to (n_samples, ), for example using ravel().\n",
      "  y = column_or_1d(y, warn=True)\n",
      "C:\\Users\\canng\\AppData\\Local\\Programs\\Python\\Python310\\lib\\site-packages\\sklearn\\feature_selection\\_univariate_selection.py:112: UserWarning: Features [37 38] are constant.\n",
      "  warnings.warn(\"Features %s are constant.\" % constant_features_idx, UserWarning)\n",
      "C:\\Users\\canng\\AppData\\Local\\Programs\\Python\\Python310\\lib\\site-packages\\sklearn\\feature_selection\\_univariate_selection.py:113: RuntimeWarning: invalid value encountered in true_divide\n",
      "  f = msb / msw\n"
     ]
    }
   ],
   "source": [
    "from sklearn.feature_selection import SelectKBest\n",
    "from sklearn.pipeline import Pipeline\n",
    "from sklearn.preprocessing import StandardScaler\n",
    "### Here, I decide to scale the features and then fit the feature selection.\n",
    "### It is not clear how the authors decided to select their k value, but here I try\n",
    "### values such as 8, 16, 32. We will try out those features in the planned algorithms\n",
    "k_vals = [8, 16, 32]\n",
    "features = []\n",
    "for k_val in k_vals:\n",
    "    select_k_best_features = []\n",
    "    pipe = Pipeline([('scaler', StandardScaler()), ('skb', SelectKBest(k = k_val))])\n",
    "    pipe.fit_transform(X_train, t_train)\n",
    "    print(k_val)\n",
    "    support = pipe.named_steps['skb'].get_support()\n",
    "    for i in range(len(support)):\n",
    "        if support[i]:\n",
    "            select_k_best_features.append(X_train.columns[i])\n",
    "    features.append(select_k_best_features)"
   ]
  },
  {
   "cell_type": "code",
   "execution_count": 27,
   "id": "830e6f9e",
   "metadata": {},
   "outputs": [
    {
     "name": "stdout",
     "output_type": "stream",
     "text": [
      "K = 8\n",
      "['patient_nbr', 'time_in_hospital', 'num_medications', 'number_outpatient', 'number_emergency', 'number_inpatient', 'number_diagnoses', 'diabetesMed']\n",
      "K = 16\n",
      "['patient_nbr', 'race', 'age', 'admission_source_id', 'time_in_hospital', 'num_lab_procedures', 'num_procedures', 'num_medications', 'number_outpatient', 'number_emergency', 'number_inpatient', 'diag_3', 'number_diagnoses', 'metformin', 'change', 'diabetesMed']\n",
      "K = 32\n",
      "['patient_nbr', 'race', 'gender', 'age', 'admission_type_id', 'discharge_disposition_id', 'admission_source_id', 'time_in_hospital', 'medical_specialty', 'num_lab_procedures', 'num_procedures', 'num_medications', 'number_outpatient', 'number_emergency', 'number_inpatient', 'diag_1', 'diag_2', 'diag_3', 'number_diagnoses', 'max_glu_serum', 'metformin', 'repaglinide', 'nateglinide', 'glipizide', 'glyburide', 'pioglitazone', 'rosiglitazone', 'acarbose', 'glipizide-metformin', 'glimepiride-pioglitazone', 'change', 'diabetesMed']\n"
     ]
    }
   ],
   "source": [
    "print(\"K = 8\")\n",
    "print(features[0])\n",
    "\n",
    "print(\"K = 16\")\n",
    "print(features[1])\n",
    "\n",
    "print(\"K = 32\")\n",
    "print(features[2])"
   ]
  },
  {
   "cell_type": "markdown",
   "id": "75acf7a0",
   "metadata": {},
   "source": [
    "### Now, we use SMOTE resampling to deal with the imabalanced data.\n",
    "\n",
    "### Here, I use imbalance-learn's SMOTE module.\n",
    "\n",
    "Source: https://imbalanced-learn.org/stable/references/generated/imblearn.over_sampling.SMOTE.html"
   ]
  },
  {
   "cell_type": "code",
   "execution_count": 30,
   "id": "eb554f8b",
   "metadata": {},
   "outputs": [
    {
     "data": {
      "text/plain": [
       "readmitted\n",
       "0             49431\n",
       "1             49431\n",
       "dtype: int64"
      ]
     },
     "execution_count": 30,
     "metadata": {},
     "output_type": "execute_result"
    }
   ],
   "source": [
    "smote = SMOTE(random_state = 42)\n",
    "X_train_rs, t_train_rs = smote.fit_resample(X_train, t_train)\n",
    "t_train_rs.value_counts()"
   ]
  },
  {
   "cell_type": "markdown",
   "id": "9be62660",
   "metadata": {},
   "source": [
    "### Now we are ready to train, test, and evaluate results."
   ]
  },
  {
   "cell_type": "code",
   "execution_count": 31,
   "id": "c5b11d33",
   "metadata": {},
   "outputs": [],
   "source": [
    "X_train_rs.to_csv(\"X_train_rs\", sep=',', encoding='utf-8', index = False)\n",
    "t_train_rs.to_csv(\"t_train_rs\", sep=',', encoding='utf-8', index = False)"
   ]
  }
 ],
 "metadata": {
  "kernelspec": {
   "display_name": "Python 3 (ipykernel)",
   "language": "python",
   "name": "python3"
  },
  "language_info": {
   "codemirror_mode": {
    "name": "ipython",
    "version": 3
   },
   "file_extension": ".py",
   "mimetype": "text/x-python",
   "name": "python",
   "nbconvert_exporter": "python",
   "pygments_lexer": "ipython3",
   "version": "3.10.1"
  }
 },
 "nbformat": 4,
 "nbformat_minor": 5
}

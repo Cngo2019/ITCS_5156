{
 "cells": [
  {
   "cell_type": "markdown",
   "id": "9a7864b8",
   "metadata": {},
   "source": [
    "### Here, we will begin to drop some features, perform some data imputation (as proposed in the paper).\n",
    "\n",
    "Just some notes:\n",
    "\n",
    "In the paper, the authors replace the missing values with the column's mean.\n",
    "\n",
    "Since most of the missing values are from columns that are integer values / discrete, we will replace them with the most frequent instead.\n",
    "\n",
    "We will then implement the outlier equation used in the paper."
   ]
  },
  {
   "cell_type": "code",
   "execution_count": 2,
   "id": "2e27e827",
   "metadata": {},
   "outputs": [],
   "source": [
    "import pandas as pd\n",
    "import numpy as np\n",
    "X_train = pd.read_csv(\"X_train\", delimiter = \",\")\n",
    "X_test = pd.read_csv(\"X_test\", delimiter = \",\")\n",
    "t_train = pd.read_csv(\"t_train\", delimiter = \",\")\n",
    "t_test = pd.read_csv(\"t_test\",  delimiter = \",\")"
   ]
  },
  {
   "cell_type": "code",
   "execution_count": 4,
   "id": "39574030",
   "metadata": {},
   "outputs": [
    {
     "data": {
      "text/plain": [
       "readmitted\n",
       "0             49431\n",
       "1             42158\n",
       "dtype: int64"
      ]
     },
     "execution_count": 4,
     "metadata": {},
     "output_type": "execute_result"
    }
   ],
   "source": [
    "### Let's look at the class distribution\n",
    "t_train.value_counts()"
   ]
  },
  {
   "cell_type": "code",
   "execution_count": 5,
   "id": "9ff4757a",
   "metadata": {},
   "outputs": [
    {
     "data": {
      "text/plain": [
       "readmitted\n",
       "0             5433\n",
       "1             4744\n",
       "dtype: int64"
      ]
     },
     "execution_count": 5,
     "metadata": {},
     "output_type": "execute_result"
    }
   ],
   "source": [
    "t_test.value_counts()"
   ]
  },
  {
   "cell_type": "code",
   "execution_count": 20,
   "id": "303519fe",
   "metadata": {},
   "outputs": [
    {
     "data": {
      "text/plain": [
       "Index(['encounter_id', 'patient_nbr', 'race', 'gender', 'age', 'weight',\n",
       "       'admission_type_id', 'discharge_disposition_id', 'admission_source_id',\n",
       "       'time_in_hospital', 'payer_code', 'medical_specialty',\n",
       "       'num_lab_procedures', 'num_procedures', 'num_medications',\n",
       "       'number_outpatient', 'number_emergency', 'number_inpatient', 'diag_1',\n",
       "       'diag_2', 'diag_3', 'number_diagnoses', 'max_glu_serum', 'A1Cresult',\n",
       "       'metformin', 'repaglinide', 'nateglinide', 'chlorpropamide',\n",
       "       'glimepiride', 'acetohexamide', 'glipizide', 'glyburide', 'tolbutamide',\n",
       "       'pioglitazone', 'rosiglitazone', 'acarbose', 'miglitol', 'troglitazone',\n",
       "       'tolazamide', 'examide', 'citoglipton', 'insulin',\n",
       "       'glyburide-metformin', 'glipizide-metformin',\n",
       "       'glimepiride-pioglitazone', 'metformin-rosiglitazone',\n",
       "       'metformin-pioglitazone', 'change', 'diabetesMed'],\n",
       "      dtype='object')"
      ]
     },
     "execution_count": 20,
     "metadata": {},
     "output_type": "execute_result"
    }
   ],
   "source": [
    "X_train.columns"
   ]
  },
  {
   "cell_type": "code",
   "execution_count": 21,
   "id": "f61abcb0",
   "metadata": {},
   "outputs": [
    {
     "data": {
      "text/plain": [
       "91589"
      ]
     },
     "execution_count": 21,
     "metadata": {},
     "output_type": "execute_result"
    }
   ],
   "source": [
    "len(X_train['encounter_id'].unique())"
   ]
  },
  {
   "cell_type": "code",
   "execution_count": 22,
   "id": "a86faaa5",
   "metadata": {},
   "outputs": [
    {
     "data": {
      "text/plain": [
       "91589"
      ]
     },
     "execution_count": 22,
     "metadata": {},
     "output_type": "execute_result"
    }
   ],
   "source": [
    "len(X_train)"
   ]
  },
  {
   "cell_type": "markdown",
   "id": "46448260",
   "metadata": {},
   "source": [
    "### It seems that encounter id is just a number assigned to each observation. Let's remove it as it is just an extra column to worry about. Additionally, let's remove the payer_code as it really doesn't matter what type of card they pay with..."
   ]
  },
  {
   "cell_type": "code",
   "execution_count": 23,
   "id": "a65fcfb7",
   "metadata": {},
   "outputs": [],
   "source": [
    "X_train = X_train.drop(columns = [\"encounter_id\",\"payer_code\"])\n",
    "X_test = X_test.drop(columns = [\"encounter_id\",\"payer_code\"])"
   ]
  },
  {
   "cell_type": "code",
   "execution_count": 24,
   "id": "ef1b8885",
   "metadata": {},
   "outputs": [
    {
     "data": {
      "text/plain": [
       "array([1, 0], dtype=int64)"
      ]
     },
     "execution_count": 24,
     "metadata": {},
     "output_type": "execute_result"
    }
   ],
   "source": [
    "t_train['readmitted'].unique()"
   ]
  },
  {
   "cell_type": "markdown",
   "id": "6484f7c6",
   "metadata": {},
   "source": [
    "### Imputation.\n",
    "\n",
    "The paper proposes the following for filling in missing values:\n",
    "\n",
    "1. Missing data will be replaced by the median.\n",
    "2. Use the equation: outlier > mean + |3 * s| where s is the standard deviation of the column.\n",
    "\n",
    "Essentially, an outlier is 3 standard deviations from the mean\n",
    "\n",
    "Before we do that, let's look at the distribution using bar plots for missing values"
   ]
  },
  {
   "cell_type": "code",
   "execution_count": 28,
   "id": "4ff60ea8",
   "metadata": {},
   "outputs": [
    {
     "name": "stdout",
     "output_type": "stream",
     "text": [
      "patient_nbr:::0\n",
      "race:::2053\n",
      "gender:::0\n",
      "age:::0\n",
      "weight:::88689\n",
      "admission_type_id:::0\n",
      "discharge_disposition_id:::0\n",
      "admission_source_id:::0\n",
      "time_in_hospital:::0\n",
      "medical_specialty:::44854\n",
      "num_lab_procedures:::0\n",
      "num_procedures:::0\n",
      "num_medications:::0\n",
      "number_outpatient:::0\n",
      "number_emergency:::0\n",
      "number_inpatient:::0\n",
      "diag_1:::16\n",
      "diag_2:::324\n",
      "diag_3:::1272\n",
      "number_diagnoses:::0\n",
      "max_glu_serum:::0\n",
      "A1Cresult:::0\n",
      "metformin:::0\n",
      "repaglinide:::0\n",
      "nateglinide:::0\n",
      "chlorpropamide:::0\n",
      "glimepiride:::0\n",
      "acetohexamide:::0\n",
      "glipizide:::0\n",
      "glyburide:::0\n",
      "tolbutamide:::0\n",
      "pioglitazone:::0\n",
      "rosiglitazone:::0\n",
      "acarbose:::0\n",
      "miglitol:::0\n",
      "troglitazone:::0\n",
      "tolazamide:::0\n",
      "examide:::0\n",
      "citoglipton:::0\n",
      "insulin:::0\n",
      "glyburide-metformin:::0\n",
      "glipizide-metformin:::0\n",
      "glimepiride-pioglitazone:::0\n",
      "metformin-rosiglitazone:::0\n",
      "metformin-pioglitazone:::0\n",
      "change:::0\n",
      "diabetesMed:::0\n"
     ]
    }
   ],
   "source": [
    "### Checking Missing Values:\n",
    "for i in X_train.columns:\n",
    "    print(str(i) + \":::\" + str(X_train[i].isna().sum()))"
   ]
  },
  {
   "cell_type": "markdown",
   "id": "dd03224d",
   "metadata": {},
   "source": [
    "## Important note:\n",
    "\n",
    "A lot of the data that is missing comes from categorical, labeled data.\n",
    "\n",
    "I.e, diagnosis 1, 2, and 3, medical specialty, weight, and race were all variables that we analyzed as being continuous. Thus, we will replace missing values with the mode."
   ]
  },
  {
   "cell_type": "code",
   "execution_count": 29,
   "id": "84a60b4f",
   "metadata": {
    "scrolled": true
   },
   "outputs": [],
   "source": [
    "missing_cols = [\"diag_1\",\"diag_2\",\"diag_3\", \"medical_specialty\", \"weight\", \"race\"]"
   ]
  },
  {
   "cell_type": "code",
   "execution_count": 30,
   "id": "67b18b52",
   "metadata": {},
   "outputs": [
    {
     "data": {
      "image/png": "[encoded data removed]",
      "text/plain": [
       "<Figure size 1152x1080 with 6 Axes>"
      ]
     },
     "metadata": {
      "needs_background": "light"
     },
     "output_type": "display_data"
    }
   ],
   "source": [
    "import matplotlib.pyplot as plt\n",
    "fig, axes = plt.subplots(len(missing_cols), figsize = (16,15), tight_layout = True)\n",
    "k = 0\n",
    "for i in range(len(missing_cols)):\n",
    "    axes[i].hist(X_train[missing_cols[k]])\n",
    "    axes[i].title.set_text(missing_cols[k])\n",
    "    k += 1"
   ]
  },
  {
   "cell_type": "code",
   "execution_count": 31,
   "id": "250a4b5d",
   "metadata": {},
   "outputs": [],
   "source": [
    "## Lets replace missing values with mode for all out columns\n",
    "from sklearn.impute import SimpleImputer\n",
    "names = X_train.columns\n",
    "imp = SimpleImputer(missing_values = np.nan, strategy = 'most_frequent')\n",
    "X_train = imp.fit_transform(X_train)\n",
    "X_test = imp.transform(X_test)\n",
    "X_train = pd.DataFrame(X_train, columns = names)\n",
    "X_test = pd.DataFrame(X_test, columns = names)"
   ]
  },
  {
   "cell_type": "code",
   "execution_count": 32,
   "id": "02160115",
   "metadata": {},
   "outputs": [
    {
     "data": {
      "image/png": "[encoded data removed]",
      "text/plain": [
       "<Figure size 1152x1080 with 6 Axes>"
      ]
     },
     "metadata": {
      "needs_background": "light"
     },
     "output_type": "display_data"
    }
   ],
   "source": [
    "### Missing values have been filled. Let's take a look at the distribution\n",
    "import matplotlib.pyplot as plt\n",
    "fig, axes = plt.subplots(len(missing_cols), figsize = (16,15), tight_layout = True)\n",
    "k = 0\n",
    "for i in range(len(missing_cols)):\n",
    "    axes[i].hist(X_train[missing_cols[k]])\n",
    "    axes[i].title.set_text(missing_cols[k])\n",
    "    k += 1"
   ]
  },
  {
   "cell_type": "markdown",
   "id": "50d544e8",
   "metadata": {},
   "source": [
    "### Outlier Detection.\n",
    "\n",
    "The algorithm goes as follows:\n",
    "\n",
    "For every column in X_train:\n",
    "   1. Compute the mean and standard deviation for that column\n",
    "   \n",
    "   2. For every observation, if the obsersataion > mean + 3 * |s| then replace with the mean\n",
    "   \n",
    "   3. Perform step 2 on the testing data as well using the mean and sd from the mean (to avoid data leakage)\n",
    "\n",
    "It is important to note that a lot of the original data was categorical and numerical.\n",
    "\n",
    "Here, I will use my intuition and apply this outlier detection method on data that I deemed non-cateogorical.\n",
    "\n",
    "The reason I do not want to remove outliers in the categorical data is because some of those cateogircal outliers could end up being useful in prediction.\n",
    "\n",
    "\n",
    "In general, the criteria that I used to determine which data was numerical vs categorical:\n",
    "\n",
    "I classified numerical data columns as follows:\n",
    "\n",
    "1. Was the dataset labled as numerical in the original diabetic_data.csv?\n",
    "2. If so, then observe the column name and the values to determine if they are deemed originally numerical\n",
    "\n",
    "\n",
    "The equation for outlier detection is located at:\n",
    "\n",
    "Machine Learning-Based Classification Algorithms for the Prediction of Coronary Heart Diseases, Kelvin Kwakye & Emmanuel Dadzie, 2021, page 3 figure 3 equation 2"
   ]
  },
  {
   "cell_type": "code",
   "execution_count": 33,
   "id": "fac8f3ef",
   "metadata": {},
   "outputs": [
    {
     "data": {
      "text/plain": [
       "encounter_id                 int64\n",
       "patient_nbr                  int64\n",
       "race                        object\n",
       "gender                      object\n",
       "age                         object\n",
       "weight                      object\n",
       "admission_type_id            int64\n",
       "discharge_disposition_id     int64\n",
       "admission_source_id          int64\n",
       "time_in_hospital             int64\n",
       "payer_code                  object\n",
       "medical_specialty           object\n",
       "num_lab_procedures           int64\n",
       "num_procedures               int64\n",
       "num_medications              int64\n",
       "number_outpatient            int64\n",
       "number_emergency             int64\n",
       "number_inpatient             int64\n",
       "diag_1                      object\n",
       "diag_2                      object\n",
       "diag_3                      object\n",
       "number_diagnoses             int64\n",
       "max_glu_serum               object\n",
       "A1Cresult                   object\n",
       "metformin                   object\n",
       "repaglinide                 object\n",
       "nateglinide                 object\n",
       "chlorpropamide              object\n",
       "glimepiride                 object\n",
       "acetohexamide               object\n",
       "glipizide                   object\n",
       "glyburide                   object\n",
       "tolbutamide                 object\n",
       "pioglitazone                object\n",
       "rosiglitazone               object\n",
       "acarbose                    object\n",
       "miglitol                    object\n",
       "troglitazone                object\n",
       "tolazamide                  object\n",
       "examide                     object\n",
       "citoglipton                 object\n",
       "insulin                     object\n",
       "glyburide-metformin         object\n",
       "glipizide-metformin         object\n",
       "glimepiride-pioglitazone    object\n",
       "metformin-rosiglitazone     object\n",
       "metformin-pioglitazone      object\n",
       "change                      object\n",
       "diabetesMed                 object\n",
       "readmitted                  object\n",
       "dtype: object"
      ]
     },
     "execution_count": 33,
     "metadata": {},
     "output_type": "execute_result"
    }
   ],
   "source": [
    "df = pd.read_csv(\"diabetic_data.csv\")\n",
    "df.dtypes"
   ]
  },
  {
   "cell_type": "markdown",
   "id": "43dda7c1",
   "metadata": {},
   "source": [
    "### Data columns that were originally numerical to being with:\n",
    "\n",
    "num_lab_procedures         \n",
    "\n",
    "num_procedures             \n",
    "\n",
    "num_medications             \n",
    "\n",
    "number_outpatient        \n",
    "\n",
    "number_emergency          \n",
    "\n",
    "number_inpatient         \n",
    "\n",
    "number_diagnoses        \n",
    "\n",
    "time_in_hospital\n",
    "\n",
    "\n",
    "\n",
    "Columns that were originally numerical but I did not include:\n",
    "\n",
    "admission_type_id            \n",
    "\n",
    "discharge_disposition_id    \n",
    "\n",
    "admission_source_id        \n",
    "\n",
    "Reason for not including them: I did not include them because they were more leaned towards the categorical side."
   ]
  },
  {
   "cell_type": "code",
   "execution_count": 5,
   "id": "2fb9a46a",
   "metadata": {},
   "outputs": [],
   "source": [
    "def outlier_counts(X_train, X_test, names):\n",
    "    for col_name in names:\n",
    "        print(col_name)\n",
    "        counter = 0\n",
    "        mean = X_train[col_name].mean()\n",
    "        sd = X_train[col_name].std()\n",
    "        for i in range(len(X_train)):\n",
    "            if X_train.loc[i, col_name] > mean + 3 * abs(sd):\n",
    "                X_train.loc[i, col_name] = mean\n",
    "                counter += 1\n",
    "        for i in range(len(X_test)):\n",
    "            if X_train.loc[i, col_name] > mean + 3 * abs(sd):\n",
    "                X_train.loc[i, col_name] = mean\n",
    "                counter += 1\n",
    "        print(\"Outerliers Replaced: \", counter)"
   ]
  },
  {
   "cell_type": "code",
   "execution_count": 6,
   "id": "e163b50c",
   "metadata": {},
   "outputs": [
    {
     "name": "stdout",
     "output_type": "stream",
     "text": [
      "num_lab_procedures\n",
      "Outerliers Replaced:  7\n",
      "num_procedures\n",
      "Outerliers Replaced:  0\n",
      "num_medications\n",
      "Outerliers Replaced:  545\n",
      "number_outpatient\n",
      "Outerliers Replaced:  2821\n",
      "number_emergency\n",
      "Outerliers Replaced:  2483\n",
      "number_inpatient\n",
      "Outerliers Replaced:  1478\n",
      "number_diagnoses\n",
      "Outerliers Replaced:  0\n",
      "time_in_hospital\n",
      "Outerliers Replaced:  1098\n"
     ]
    }
   ],
   "source": [
    "names = ['num_lab_procedures','num_procedures','num_medications','number_outpatient','number_emergency','number_inpatient','number_diagnoses','time_in_hospital']\n",
    "outlier_counts(X_train, X_test, names)"
   ]
  },
  {
   "cell_type": "markdown",
   "id": "ae75a05c",
   "metadata": {},
   "source": [
    "### General overview of this module:\n",
    "\n",
    "1. For missing values, replace NA values with mean if they are numerical or with the mode if they were categorical\n",
    "\n",
    "2. Perform outlier detection on data that was originally numerical using the criteria listed above\n",
    "\n",
    "Next, we have to perform some resampling techniques because we have huge data imbalances - especially in the class 1.\n",
    "\n",
    "On page 5 of the paper, the author mentions \"The results for the original dataset revealed extremely low mean accuracy, particularly in the SVM model. As a result, the data was transformed using the Synthetic Minority\n",
    "Oversampling Technique (SMOTE), which increased the\n",
    "number of cases in the dataset in a balanced manner. That is, it\n",
    "created new instances from existing minority cases.\"\n",
    "\n",
    "Source:\n",
    "\n",
    "\n",
    "Machine Learning-Based Classification Algorithms for the Prediction of Coronary Heart Diseases, Kelvin Kwakye & Emmanuel Dadzie, 2021, page 5\n",
    "\n",
    "Here, it seems that the labels are distributed pretty well. But we will try SMOTE resampling to see if it betters our model"
   ]
  },
  {
   "cell_type": "code",
   "execution_count": 36,
   "id": "3287826a",
   "metadata": {},
   "outputs": [],
   "source": [
    "X_train.to_csv(\"X_train\", sep=',', encoding='utf-8', index = False)\n",
    "X_test.to_csv(\"X_test\", sep=',', encoding='utf-8', index = False)\n",
    "t_train.to_csv(\"t_train\", sep=',', encoding='utf-8', index = False)\n",
    "t_test.to_csv(\"t_test\", sep=',', encoding='utf-8', index = False)"
   ]
  }
 ],
 "metadata": {
  "kernelspec": {
   "display_name": "Python 3 (ipykernel)",
   "language": "python",
   "name": "python3"
  },
  "language_info": {
   "codemirror_mode": {
    "name": "ipython",
    "version": 3
   },
   "file_extension": ".py",
   "mimetype": "text/x-python",
   "name": "python",
   "nbconvert_exporter": "python",
   "pygments_lexer": "ipython3",
   "version": "3.7.3"
  }
 },
 "nbformat": 4,
 "nbformat_minor": 5
}
